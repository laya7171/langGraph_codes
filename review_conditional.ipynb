{
 "cells": [
  {
   "cell_type": "markdown",
   "id": "2979e683",
   "metadata": {},
   "source": [
    "### THe code show use case of the conditional branching "
   ]
  },
  {
   "cell_type": "code",
   "execution_count": 166,
   "id": "92168ec2",
   "metadata": {},
   "outputs": [],
   "source": [
    "from langgraph.graph import StateGraph, END, START\n",
    "from typing import TypedDict, Literal\n",
    "from pydantic import Field, BaseModel\n",
    "from langchain.prompts import PromptTemplate\n",
    "from langchain_ollama import OllamaLLM\n",
    "from langchain.output_parsers import PydanticOutputParser\n",
    "import json"
   ]
  },
  {
   "cell_type": "code",
   "execution_count": 167,
   "id": "6af7ccf3",
   "metadata": {},
   "outputs": [],
   "source": [
    "llm = OllamaLLM(model=\"llama3.2:latest\", temperature=0.1)"
   ]
  },
  {
   "cell_type": "code",
   "execution_count": 168,
   "id": "b2133ab4",
   "metadata": {},
   "outputs": [],
   "source": [
    "class sentimentSchema(BaseModel):\n",
    "    \n",
    "    sentiment: Literal['positive','negative']= Field(description=\"The sentiment of the text\")"
   ]
  },
  {
   "cell_type": "code",
   "execution_count": 169,
   "id": "3166c88a",
   "metadata": {},
   "outputs": [],
   "source": [
    "parser = PydanticOutputParser(pydantic_object=sentimentSchema)"
   ]
  },
  {
   "cell_type": "code",
   "execution_count": 170,
   "id": "085a98f5",
   "metadata": {},
   "outputs": [],
   "source": [
    "# 🔧 Replace format_instructions with a simple instruction string\n",
    "\n"
   ]
  },
  {
   "cell_type": "code",
   "execution_count": 171,
   "id": "4d36d3bf",
   "metadata": {},
   "outputs": [],
   "source": [
    "review1 = \"I love LangGraph, it is amazing!\"\n"
   ]
  },
  {
   "cell_type": "code",
   "execution_count": 172,
   "id": "a0537ae4",
   "metadata": {},
   "outputs": [],
   "source": [
    "class ReviewState(TypedDict):\n",
    "\n",
    "    review: str\n",
    "    sentiment:Literal['positive', 'negative']\n",
    "    response: str\n",
    "    "
   ]
  },
  {
   "cell_type": "code",
   "execution_count": 173,
   "id": "df64e80d",
   "metadata": {},
   "outputs": [],
   "source": [
    "def find_sentiment(state: ReviewState) -> ReviewState:\n",
    "    \"\"\"\n",
    "    Find the sentiment of the review.\n",
    "    \"\"\"\n",
    "    format_instructions = \"Return only a JSON object like this: {\\\"sentiment\\\": \\\"positive\\\"} or {\\\"sentiment\\\": \\\"negative\\\"}. No explanation.\"\n",
    "\n",
    "    prompt = PromptTemplate(\n",
    "    template=\"What is the sentiment of the following text?\\n\\n{text}\\n\\n{format_instructions}\",\n",
    "    input_variables=[\"text\"],\n",
    "    partial_variables={\"format_instructions\": format_instructions}\n",
    "    )\n",
    "    review1= state['review']\n",
    "    reviw1_formated = prompt.format(text=review1)\n",
    "    result = llm.invoke(reviw1_formated)\n",
    "    parsed_result = json.loads(result)\n",
    "    \n",
    "    return {\"sentiment\": parsed_result['sentiment']}"
   ]
  },
  {
   "cell_type": "code",
   "execution_count": 174,
   "id": "5f1224ff",
   "metadata": {},
   "outputs": [],
   "source": [
    "def check_sentiment(state: ReviewState)-> Literal['positive_response', 'negative_response']:\n",
    "    \"\"\"\n",
    "    Check the sentiment of the review.\n",
    "    \"\"\"\n",
    "    if state['sentiment'] == 'positive':\n",
    "        return 'positive_response'\n",
    "    else:\n",
    "        return 'negative_response'"
   ]
  },
  {
   "cell_type": "code",
   "execution_count": 175,
   "id": "ecf14a10",
   "metadata": {},
   "outputs": [],
   "source": [
    "def positive_response(state: ReviewState) -> ReviewState:\n",
    "    \"\"\"\n",
    "    Handle the positive response.\n",
    "    \"\"\"\n",
    "    promttemplate = PromptTemplate(\n",
    "        template=\"Write a 4 line positive response to the following review:\\n\\n{text}\\n\\n\",\n",
    "        input_variables=[\"text\"]\n",
    "    )\n",
    "\n",
    "    result = llm.invoke(promttemplate.format(text=state['review']))\n",
    "    return {\"response\": result}"
   ]
  },
  {
   "cell_type": "code",
   "execution_count": 176,
   "id": "687a09b8",
   "metadata": {},
   "outputs": [],
   "source": [
    "def negative_response(state: ReviewState)-> ReviewState:\n",
    "    \"\"\"\n",
    "    Handle the negative response.\n",
    "    \"\"\"\n",
    "    promttemplate = PromptTemplate(\n",
    "        template=\"Write a 4 line apology response to the following review:\\n\\n{text}\\n\\n\",\n",
    "        input_variables=[\"text\"]\n",
    "    )\n",
    "\n",
    "    result = llm.invoke(promttemplate.format(text=state['review']))\n",
    "    return {\"response\": result}"
   ]
  },
  {
   "cell_type": "code",
   "execution_count": 177,
   "id": "321b3b78",
   "metadata": {},
   "outputs": [],
   "source": [
    "graph = StateGraph(ReviewState)"
   ]
  },
  {
   "cell_type": "code",
   "execution_count": 178,
   "id": "fa026422",
   "metadata": {},
   "outputs": [
    {
     "data": {
      "text/plain": [
       "<langgraph.graph.state.StateGraph at 0x2cac9156020>"
      ]
     },
     "execution_count": 178,
     "metadata": {},
     "output_type": "execute_result"
    }
   ],
   "source": [
    "graph.add_node('find_sentiment', find_sentiment)\n",
    "graph.add_conditional_edges('find_sentiment', check_sentiment)\n",
    "graph.add_node('positive_response', positive_response)\n",
    "graph.add_node('negative_response', negative_response)\n",
    "\n",
    "graph.add_edge(START, 'find_sentiment')\n",
    "graph.add_edge('positive_response', END)\n",
    "graph.add_edge('negative_response', END)\n"
   ]
  },
  {
   "cell_type": "code",
   "execution_count": 179,
   "id": "8d244dba",
   "metadata": {},
   "outputs": [],
   "source": [
    "workflow = graph.compile()"
   ]
  },
  {
   "cell_type": "code",
   "execution_count": 180,
   "id": "65dce826",
   "metadata": {},
   "outputs": [
    {
     "data": {
      "image/png": "[encoded data removed]",
      "text/plain": [
       "<langgraph.graph.state.CompiledStateGraph object at 0x000002CAC867D510>"
      ]
     },
     "execution_count": 180,
     "metadata": {},
     "output_type": "execute_result"
    }
   ],
   "source": [
    "workflow"
   ]
  },
  {
   "cell_type": "code",
   "execution_count": 181,
   "id": "5ef8f886",
   "metadata": {},
   "outputs": [],
   "source": [
    "user_review = {\n",
    "    'review': \"Wow! The product was amaging, I loved it!\",\n",
    "}"
   ]
  },
  {
   "cell_type": "code",
   "execution_count": 182,
   "id": "e313c2a6",
   "metadata": {},
   "outputs": [],
   "source": [
    "result = workflow.invoke(user_review)"
   ]
  },
  {
   "cell_type": "code",
   "execution_count": 183,
   "id": "a97d4458",
   "metadata": {},
   "outputs": [
    {
     "name": "stdout",
     "output_type": "stream",
     "text": [
      "{'review': 'Wow! The product was amaging, I loved it!', 'sentiment': 'positive', 'response': \"We're thrilled that you had such an amazing experience with our product! It's great to hear that it exceeded your expectations and brought you joy. We're committed to providing high-quality products that make a difference in people's lives, and we appreciate your kind words. Thank you for choosing us - we look forward to serving you again in the future!\"}\n"
     ]
    }
   ],
   "source": [
    "print(result)"
   ]
  },
  {
   "cell_type": "code",
   "execution_count": null,
   "id": "9624b404",
   "metadata": {},
   "outputs": [],
   "source": []
  }
 ],
 "metadata": {
  "kernelspec": {
   "display_name": "myenv",
   "language": "python",
   "name": "python3"
  },
  "language_info": {
   "codemirror_mode": {
    "name": "ipython",
    "version": 3
   },
   "file_extension": ".py",
   "mimetype": "text/x-python",
   "name": "python",
   "nbconvert_exporter": "python",
   "pygments_lexer": "ipython3",
   "version": "3.10.11"
  }
 },
 "nbformat": 4,
 "nbformat_minor": 5
}
