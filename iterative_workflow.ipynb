{
 "cells": [
  {
   "cell_type": "markdown",
   "id": "037a5619",
   "metadata": {},
   "source": [
    "### The code shows use of iterative workflow in the context of tweet generation for X"
   ]
  },
  {
   "cell_type": "code",
   "execution_count": 97,
   "id": "c2a57f37",
   "metadata": {},
   "outputs": [],
   "source": [
    "from langgraph.graph import StateGraph, START, END\n",
    "from langchain_ollama import OllamaLLM\n",
    "from typing import Annotated, TypedDict , Literal\n",
    "from langchain_core.messages import SystemMessage, HumanMessage\n",
    "from pydantic import BaseModel, Field\n",
    "from langchain.output_parsers import PydanticOutputParser\n",
    "import json"
   ]
  },
  {
   "cell_type": "code",
   "execution_count": 98,
   "id": "4e9d2e34",
   "metadata": {},
   "outputs": [],
   "source": [
    "evaluater_llm = OllamaLLM(model =\"llama3.2:latest\")\n",
    "generator_llm = OllamaLLM(model =\"phi3:latest\")\n",
    "optimizer_llm = OllamaLLM(model =\"phi4-mini:latest\")"
   ]
  },
  {
   "cell_type": "code",
   "execution_count": 99,
   "id": "d979d0ea",
   "metadata": {},
   "outputs": [],
   "source": [
    "class tweetState(TypedDict):\n",
    "    \n",
    "    topic: str\n",
    "    tweet: str\n",
    "    evaluation: Literal[\"approved\", \"needs_improvement\"]\n",
    "    feedback: str\n",
    "    iteration: int\n",
    "    max_iterations: int  ## we use this as a limit because sometimes the model can get stuck in a loop\n",
    "\n"
   ]
  },
  {
   "cell_type": "code",
   "execution_count": 100,
   "id": "a50a4d7e",
   "metadata": {},
   "outputs": [],
   "source": [
    "def generate_tweet(state: tweetState) -> tweetState:\n",
    "    \n",
    "    message = [\n",
    "        SystemMessage(\"You are a funny and clever Twitter influencer\"),\n",
    "        HumanMessage(f\"\"\"Write a short, original tweet about {state['topic']}\n",
    "    \n",
    "        Rules:\n",
    "        -Do not use question answer formate\n",
    "        -Max  100 characters\n",
    "        -Make it engaging and fun   \n",
    "        \"\"\")\n",
    "    ]\n",
    "\n",
    "    response = generator_llm.invoke(message)\n",
    "\n",
    "    return {state['tweet']: response}"
   ]
  },
  {
   "cell_type": "code",
   "execution_count": 101,
   "id": "3f86977c",
   "metadata": {},
   "outputs": [],
   "source": [
    "class EvaluationSchema(BaseModel):\n",
    "    evaluation: Literal[\"approved\", \"needs_improvement\"] = Field(..., description=\"The evaluation of the tweet\")\n",
    "    feedback: str = Field(description=\"Feedback on the tweet, if any\")"
   ]
  },
  {
   "cell_type": "code",
   "execution_count": 102,
   "id": "e2893b4b",
   "metadata": {},
   "outputs": [],
   "source": [
    "##evaluation node function\n",
    "parser = PydanticOutputParser(pydantic_object=tweetState)\n",
    "def evaluate_tweet(state: tweetState) -> tweetState:\n",
    "    \n",
    "    message = [\n",
    "        SystemMessage(\"You are a social media expert\"),\n",
    "        HumanMessage(f\"\"\"Evaluate the following tweet:  {state['tweet']}\n",
    "        -Is it engaging? \n",
    "        -Does it follow the rules?\n",
    "        -If it needs improvement, provide specific feedback\n",
    "                     \n",
    "                     \"\"\")\n",
    "    ]\n",
    "\n",
    "    structured_evaluation_llm = evaluater_llm.with_structured_output(\n",
    "        output_parser=EvaluationSchema,)\n",
    "    response = structured_evaluation_llm.invoke(message)\n",
    "\n",
    "    return {state['evaluation']: response, 'feedback': response.feedback}"
   ]
  },
  {
   "cell_type": "code",
   "execution_count": 103,
   "id": "ad743675",
   "metadata": {},
   "outputs": [],
   "source": [
    "def optimizer_tweet(tweetState):\n",
    "    message = [\n",
    "        SystemMessage(\"You are a social media expert\"),\n",
    "        HumanMessage(f\"\"\"Optimize the following tweet: {tweetState['tweet']}\n",
    "        -Make it more engaging\n",
    "        -Follow the feedback: {tweetState['feedback']}\n",
    "        \"\"\")\n",
    "    ]\n",
    "\n",
    "    response = optimizer_llm.invoke(message)\n",
    "\n",
    "    return {tweetState['tweet']: response, 'iteration': tweetState['iteration'] + 1}"
   ]
  },
  {
   "cell_type": "code",
   "execution_count": 104,
   "id": "ad823b6a",
   "metadata": {},
   "outputs": [],
   "source": [
    "from typing import Literal\n",
    "\n",
    "def conditional_edge(state: tweetState) -> Literal[END, \"optimize\"]:\n",
    "    if state['evaluation'] == \"approved\" or state['iteration'] >= state['max_iterations']:\n",
    "        return END\n",
    "    else:\n",
    "        return \"optimize\"\n",
    "\n"
   ]
  },
  {
   "cell_type": "code",
   "execution_count": 105,
   "id": "afa0ff26",
   "metadata": {},
   "outputs": [
    {
     "data": {
      "text/plain": [
       "<langgraph.graph.state.StateGraph at 0x1b0b18e7dc0>"
      ]
     },
     "execution_count": 105,
     "metadata": {},
     "output_type": "execute_result"
    }
   ],
   "source": [
    "graph = StateGraph(tweetState)\n",
    "\n",
    "graph.add_node(\"generate\", generate_tweet)\n",
    "graph.add_node(\"evaluate\",evaluate_tweet)\n",
    "graph.add_node(\"optimize\", optimizer_tweet)\n",
    "\n",
    "graph.add_edge(START, \"generate\")\n",
    "graph.add_edge(\"generate\", \"evaluate\")\n",
    "graph.add_conditional_edges(\"evaluate\", conditional_edge)\n",
    "graph.add_edge(\"optimize\", \"evaluate\")"
   ]
  },
  {
   "cell_type": "code",
   "execution_count": 106,
   "id": "af11a72b",
   "metadata": {},
   "outputs": [],
   "source": [
    "workflow = graph.compile()"
   ]
  },
  {
   "cell_type": "code",
   "execution_count": 107,
   "id": "7707cea0",
   "metadata": {},
   "outputs": [
    {
     "data": {
      "image/png": "[encoded data removed]",
      "text/plain": [
       "<langgraph.graph.state.CompiledStateGraph object at 0x000001B0B17E7400>"
      ]
     },
     "execution_count": 107,
     "metadata": {},
     "output_type": "execute_result"
    }
   ],
   "source": [
    "workflow"
   ]
  },
  {
   "cell_type": "code",
   "execution_count": null,
   "id": "49df6abd",
   "metadata": {},
   "outputs": [],
   "source": []
  }
 ],
 "metadata": {
  "kernelspec": {
   "display_name": "myenv",
   "language": "python",
   "name": "python3"
  },
  "language_info": {
   "codemirror_mode": {
    "name": "ipython",
    "version": 3
   },
   "file_extension": ".py",
   "mimetype": "text/x-python",
   "name": "python",
   "nbconvert_exporter": "python",
   "pygments_lexer": "ipython3",
   "version": "3.10.11"
  }
 },
 "nbformat": 4,
 "nbformat_minor": 5
}
