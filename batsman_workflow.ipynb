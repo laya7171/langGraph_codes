{
 "cells": [
  {
   "cell_type": "code",
   "execution_count": 125,
   "id": "3be86de3",
   "metadata": {},
   "outputs": [],
   "source": [
    "from langgraph.graph import StateGraph, START, END\n",
    "from typing import TypedDict\n",
    "from langchain_ollama import OllamaLLM\n",
    "from langchain.prompts import PromptTemplate"
   ]
  },
  {
   "cell_type": "code",
   "execution_count": 126,
   "id": "b88fa149",
   "metadata": {},
   "outputs": [],
   "source": [
    "class BatsmanState(TypedDict):\n",
    "    runs: int\n",
    "    balls: int\n",
    "    fours: int \n",
    "    sixes: int\n",
    "\n",
    "    sr: float\n",
    "    bpb: float #bpb = balls per boundary\n",
    "    boundary_percentage: float\n",
    "\n",
    "    summary: str\n",
    "    llm_explanation:str\n"
   ]
  },
  {
   "cell_type": "code",
   "execution_count": 127,
   "id": "f735c832",
   "metadata": {},
   "outputs": [],
   "source": [
    "graph = StateGraph(BatsmanState)"
   ]
  },
  {
   "cell_type": "code",
   "execution_count": 128,
   "id": "b0c14cac",
   "metadata": {},
   "outputs": [],
   "source": [
    "def calculate_sr(state: BatsmanState) -> BatsmanState:\n",
    "    \n",
    "    balls = state[\"balls\"]\n",
    "    runs = state[\"runs\"]\n",
    "    \n",
    "    sr = runs / balls * 100\n",
    "    return {\"sr\": sr}\n",
    "    # Strike rate = (runs/balls) * 100\n",
    "    sr = runs / balls * 100 \n",
    "\n",
    "    return {\"sr\": sr}"
   ]
  },
  {
   "cell_type": "code",
   "execution_count": 129,
   "id": "f804a5e4",
   "metadata": {},
   "outputs": [],
   "source": [
    "def calculate_bpb(state: BatsmanState) -> BatsmanState:\n",
    "    \n",
    "    fours = state[\"fours\"]\n",
    "    sixes = state[\"sixes\"]\n",
    "    balls = state[\"balls\"]\n",
    "\n",
    "    bpb = balls / (fours + sixes)\n",
    "    return {\"bpb\": bpb}\n",
    "\n",
    "    return {\"bpb\": bpb}"
   ]
  },
  {
   "cell_type": "code",
   "execution_count": 130,
   "id": "e910387b",
   "metadata": {},
   "outputs": [],
   "source": [
    "def calculate_boundary_percentage(state: BatsmanState) -> BatsmanState:\n",
    "    \n",
    "    fours = state[\"fours\"]\n",
    "    sixes = state[\"sixes\"]\n",
    "    runs = state[\"runs\"]\n",
    "\n",
    "    boundary_percentage = (fours * 4 + sixes * 6) / runs * 100\n",
    "\n",
    "    return {\"boundary_percentage\": boundary_percentage}\n",
    "\n",
    "    return {\"boundary_percentage\": boundary_percentage}"
   ]
  },
  {
   "cell_type": "code",
   "execution_count": 131,
   "id": "9279c715",
   "metadata": {},
   "outputs": [],
   "source": [
    "def summary(state: BatsmanState) -> BatsmanState:\n",
    "\n",
    "    summary_text = f\"\"\"\n",
    "    Strike Rate: {state[\"sr\"]:.2f},\n",
    "    Balls per Boundary: {state[\"bpb\"]:.2f},\n",
    "    Boundary Percentage: {state[\"boundary_percentage\"]:.2f}%\n",
    "    \"\"\"\n",
    "    return {\"summary\": summary_text}\n",
    "    summary_text = f\"\"\"\n",
    "Strike Rate: {state[\"sr\"]:.2f}\n",
    "Balls per Boundary: {state[\"bpb\"]:.2f}\n",
    "Boundary Percentage: {state[\"boundary_percentage\"]:.2f}%\n",
    "\"\"\"\n",
    "    \n",
    "    return {\"summary\": summary_text}"
   ]
  },
  {
   "cell_type": "code",
   "execution_count": 132,
   "id": "c00470b9",
   "metadata": {},
   "outputs": [],
   "source": [
    "def llm_explain(state: BatsmanState) -> BatsmanState:\n",
    "    llm = OllamaLLM(model = \"gemma3:1b\")\n",
    "    summary = state[\"summary\"]\n",
    "    prompt = PromptTemplate(\n",
    "        template = \"Use the given metric to say how did the batsman performed:{summary}\",\n",
    "        input_variables=[\"summary\"]\n",
    "    )\n",
    "    response = llm(prompt.format(summary=summary))\n",
    "\n",
    "\n",
    "\n",
    "    return {\"llm_explanation\": response}\n"
   ]
  },
  {
   "cell_type": "code",
   "execution_count": 133,
   "id": "b7953c74",
   "metadata": {},
   "outputs": [
    {
     "data": {
      "text/plain": [
       "<langgraph.graph.state.StateGraph at 0x18ebe291630>"
      ]
     },
     "execution_count": 133,
     "metadata": {},
     "output_type": "execute_result"
    }
   ],
   "source": [
    "graph.add_node(\"calculate_sr\", calculate_sr)\n",
    "graph.add_node(\"calculate_bpb\", calculate_bpb)\n",
    "graph.add_node(\"calculate_boundary_percentage\", calculate_boundary_percentage)\n",
    "graph.add_node(\"summary\", summary)\n",
    "graph.add_node(\"llm_explain\", llm_explain)\n",
    "\n"
   ]
  },
  {
   "cell_type": "code",
   "execution_count": 134,
   "id": "aa3a7ca7",
   "metadata": {},
   "outputs": [
    {
     "data": {
      "text/plain": [
       "<langgraph.graph.state.StateGraph at 0x18ebe291630>"
      ]
     },
     "execution_count": 134,
     "metadata": {},
     "output_type": "execute_result"
    }
   ],
   "source": [
    "graph.add_edge(START, \"calculate_sr\")\n",
    "graph.add_edge(START, \"calculate_bpb\")\n",
    "graph.add_edge(START, \"calculate_boundary_percentage\")\n",
    "\n",
    "graph.add_edge(\"calculate_sr\", \"summary\")\n",
    "graph.add_edge(\"calculate_bpb\", \"summary\")  \n",
    "graph.add_edge(\"calculate_boundary_percentage\", \"summary\")\n",
    "\n",
    "graph.add_edge(\"summary\", \"llm_explain\")\n",
    "\n",
    "graph.add_edge(\"llm_explain\", END)"
   ]
  },
  {
   "cell_type": "code",
   "execution_count": 135,
   "id": "6bcde4ed",
   "metadata": {},
   "outputs": [],
   "source": [
    "workflow = graph.compile()"
   ]
  },
  {
   "cell_type": "code",
   "execution_count": 136,
   "id": "65e6a518",
   "metadata": {},
   "outputs": [
    {
     "data": {
      "image/png": "[encoded data removed]",
      "text/plain": [
       "<langgraph.graph.state.CompiledStateGraph object at 0x0000018EBE2900A0>"
      ]
     },
     "execution_count": 136,
     "metadata": {},
     "output_type": "execute_result"
    }
   ],
   "source": [
    "workflow"
   ]
  },
  {
   "cell_type": "code",
   "execution_count": 137,
   "id": "e7492c2e",
   "metadata": {},
   "outputs": [],
   "source": [
    "initial_state = {\n",
    "    \"runs\": 85,\n",
    "    \"balls\": 65,\n",
    "    \"fours\": 8,\n",
    "    \"sixes\": 2,\n",
    "}\n",
    "\n",
    "final_state = workflow.invoke(initial_state)"
   ]
  },
  {
   "cell_type": "code",
   "execution_count": 138,
   "id": "64d87868",
   "metadata": {},
   "outputs": [
    {
     "name": "stdout",
     "output_type": "stream",
     "text": [
      "\n",
      "    Strike Rate: 130.77,\n",
      "    Balls per Boundary: 6.50,\n",
      "    Boundary Percentage: 51.76%\n",
      "    \n"
     ]
    }
   ],
   "source": [
    "print(final_state[\"summary\"])"
   ]
  },
  {
   "cell_type": "code",
   "execution_count": 139,
   "id": "9b2c1de6",
   "metadata": {},
   "outputs": [
    {
     "name": "stdout",
     "output_type": "stream",
     "text": [
      "Okay, let's break down the batsman’s performance based on those metrics:\n",
      "\n",
      "**Overall Performance Summary:**\n",
      "\n",
      "The batsman is performing exceptionally well. They are a very strong batsman with a high strike rate and a significant contribution through boundaries.\n",
      "\n",
      "**Here’s a more detailed breakdown:**\n",
      "\n",
      "*   **Strike Rate (130.77):** This is a very high strike rate, indicating they are scoring runs quickly.\n",
      "*   **Balls per Boundary (6.50):** This is a considerable number – it suggests they are consistently hitting boundaries, which is a key part of a good scoring performance.\n",
      "*   **Boundary Percentage (51.76%):** This shows that they are hitting boundaries at a very high rate – 51.76% is a strong and impressive percentage.\n",
      "\n",
      "**Conclusion:**\n",
      "\n",
      "Based on these metrics, the batsman is a **highly valuable player** who is performing exceptionally well, contributing significantly to the team’s scoring.\n",
      "\n",
      "**To give a more precise assessment, more context would be helpful, such as:**\n",
      "\n",
      "*   **What format is this?** (Test, ODI, T20)\n",
      "*   **What is the context?** (e.g., Leading the attack, a key player, a specialist)\n"
     ]
    }
   ],
   "source": [
    "print(final_state[\"llm_explanation\"])"
   ]
  }
 ],
 "metadata": {
  "kernelspec": {
   "display_name": "myenv",
   "language": "python",
   "name": "python3"
  },
  "language_info": {
   "codemirror_mode": {
    "name": "ipython",
    "version": 3
   },
   "file_extension": ".py",
   "mimetype": "text/x-python",
   "name": "python",
   "nbconvert_exporter": "python",
   "pygments_lexer": "ipython3",
   "version": "3.10.11"
  }
 },
 "nbformat": 4,
 "nbformat_minor": 5
}
